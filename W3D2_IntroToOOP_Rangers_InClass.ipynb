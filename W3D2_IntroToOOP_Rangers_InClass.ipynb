{
 "cells": [
  {
   "cell_type": "markdown",
   "metadata": {},
   "source": [
    "# Object-Oriented-Programming (OOP)"
   ]
  },
  {
   "cell_type": "markdown",
   "metadata": {},
   "source": [
    "## Tasks Today:\n",
    "\n",
    "   \n",
    "\n",
    "1) <b>Creating a Class (Initializing/Declaring)</b> <br>\n",
    "2) <b>Using a Class (Instantiating)</b> <br>\n",
    " &nbsp;&nbsp;&nbsp;&nbsp; a) Creating One Instance <br>\n",
    " &nbsp;&nbsp;&nbsp;&nbsp; b) Creating Multiple Instances <br>\n",
    " &nbsp;&nbsp;&nbsp;&nbsp; c) In-Class Exercise #1 - Create a Class 'Car' and instantiate three different makes of cars <br>\n",
    "3) <b>The \\__init\\__() Method</b> <br>\n",
    " &nbsp;&nbsp;&nbsp;&nbsp; a) The 'self' Attribute <br>\n",
    "4) <b>Class Attributes</b> <br>\n",
    " &nbsp;&nbsp;&nbsp;&nbsp; a) Initializing Attributes <br>\n",
    " &nbsp;&nbsp;&nbsp;&nbsp; b) Setting an Attribute Outside of the \\__init\\__() Method <br>\n",
    " &nbsp;&nbsp;&nbsp;&nbsp; c) Setting Defaults for Attributes <br>\n",
    " &nbsp;&nbsp;&nbsp;&nbsp; d) Accessing Class Attributes <br>\n",
    " &nbsp;&nbsp;&nbsp;&nbsp; e) Changing Class Attributes <br>\n",
    " &nbsp;&nbsp;&nbsp;&nbsp; f) In-Class Exercise #2 - Add a color and wheels attribute to your 'Car' class <br>\n",
    "5) <b>Class Methods</b> <br>\n",
    " &nbsp;&nbsp;&nbsp;&nbsp; a) Creating <br>\n",
    " &nbsp;&nbsp;&nbsp;&nbsp; b) Calling <br>\n",
    " &nbsp;&nbsp;&nbsp;&nbsp; c) Modifying an Attribute's Value Through a Method <br>\n",
    " &nbsp;&nbsp;&nbsp;&nbsp; d) Incrementing an Attribute's Value Through a Method <br>\n",
    " &nbsp;&nbsp;&nbsp;&nbsp; e) In-Class Exercise #3 - Add a method that prints the cars color and wheel number, then call them <br>\n",
    "6) <b>Inheritance</b> <br>\n",
    " &nbsp;&nbsp;&nbsp;&nbsp; a) Syntax for Inheriting from a Parent Class <br>\n",
    " &nbsp;&nbsp;&nbsp;&nbsp; b) The \\__init\\__() Method for a Child Class (super()) <br>\n",
    " &nbsp;&nbsp;&nbsp;&nbsp; c) Defining Attributes and Methods for the Child Class <br>\n",
    " &nbsp;&nbsp;&nbsp;&nbsp; d) Method Overriding <br>\n",
    " &nbsp;&nbsp;&nbsp;&nbsp; e) In-Class Exercise #4 - Create a class 'Ford' that inherits from 'Car' class and initialize it as a Blue Ford Explorer with 4 wheels using the super() method <br>\n",
    "7) <b>Encapsulation</b> <br>\n",
    " &nbsp;&nbsp;&nbsp;&nbsp; a) Public Access Modifier <br>\n",
    " &nbsp;&nbsp;&nbsp;&nbsp; b) Protected Access Modifier <br>\n",
    " &nbsp;&nbsp;&nbsp;&nbsp; c) Private Access Modifier <br>\n",
    "8) <b>Classes as Attributes</b> <br>\n",
    "9) <b>Exercises</b> <br>\n",
    " &nbsp;&nbsp;&nbsp;&nbsp; a) Exercise #1 - Turn the shopping cart program from last week into an object-oriented program <br>"
   ]
  },
  {
   "cell_type": "markdown",
   "metadata": {},
   "source": [
    "## Creating a Class (Initializing/Declaring)\n",
    "<p>When creating a class, function, or even a variable you are initializing that object. Initializing and Declaring occur at the same time in Python, whereas in lower level languages you have to declare an object before initializing it. This is the first step in the process of using a class.</p>"
   ]
  },
  {
   "cell_type": "code",
   "execution_count": 3,
   "metadata": {},
   "outputs": [],
   "source": [
    "# utilizing class keyword and then PascalCase the class name\n",
    "class Car():\n",
    "\n",
    "    # create some class attributes (a blueprint)\n",
    "    wheels = 4\n",
    "    color = \"blue\"\n",
    "    "
   ]
  },
  {
   "cell_type": "markdown",
   "metadata": {},
   "source": [
    "## Using a Class (Instantiating)\n",
    "<p>The process of creating a class is called <i>Instantiating</i>. Each time you create a variable of that type of class, it is referred to as an <i>Instance</i> of that class. This is the second step in the process of using a class.</p>"
   ]
  },
  {
   "cell_type": "markdown",
   "metadata": {},
   "source": [
    "##### Creating One Instance"
   ]
  },
  {
   "cell_type": "code",
   "execution_count": 5,
   "metadata": {},
   "outputs": [
    {
     "name": "stdout",
     "output_type": "stream",
     "text": [
      "4\n",
      "blue\n",
      "{'__module__': '__main__', 'wheels': 4, 'color': 'blue', '__dict__': <attribute '__dict__' of 'Car' objects>, '__weakref__': <attribute '__weakref__' of 'Car' objects>, '__doc__': None}\n"
     ]
    }
   ],
   "source": [
    "ford = Car()\n",
    "print(ford.wheels)\n",
    "print(ford.color)\n",
    "\n",
    "print(Car.__dict__)\n",
    "    "
   ]
  },
  {
   "cell_type": "markdown",
   "metadata": {},
   "source": [
    "##### Creating Multiple Instances"
   ]
  },
  {
   "cell_type": "code",
   "execution_count": 7,
   "metadata": {},
   "outputs": [
    {
     "name": "stdout",
     "output_type": "stream",
     "text": [
      "blue\n",
      "blue\n",
      "{'__module__': '__main__', 'wheels': 4, 'color': 'blue', '__dict__': <attribute '__dict__' of 'Car' objects>, '__weakref__': <attribute '__weakref__' of 'Car' objects>, '__doc__': None}\n"
     ]
    }
   ],
   "source": [
    "honda = Car() # objects\n",
    "mazda = Car() # objects\n",
    "subaru = Car() # objects\n",
    "\n",
    "print(mazda.color)\n",
    "print(subaru.color)\n",
    "\n",
    "print(Car.__dict__)"
   ]
  },
  {
   "cell_type": "markdown",
   "metadata": {},
   "source": [
    "##### In-Class Exercise #1 - Create a Class 'Car' and Instantiate three different makes of cars"
   ]
  },
  {
   "cell_type": "code",
   "execution_count": 24,
   "metadata": {},
   "outputs": [],
   "source": [
    "class Car():\n",
    "\n",
    "    engine = True\n",
    "    gastank = True\n",
    "    wheels = 4\n",
    "\n",
    "    def __init__(self, color, doors, headlights, window_tint):\n",
    "        self.color = color\n",
    "        self.doors = doors\n",
    "        self.headlights = headlights\n",
    "        self.window_tint = window_tint\n",
    "        "
   ]
  },
  {
   "cell_type": "code",
   "execution_count": 26,
   "metadata": {},
   "outputs": [
    {
     "name": "stdout",
     "output_type": "stream",
     "text": [
      "Info about the cars\n",
      "red\n",
      "green\n",
      "orange\n",
      "\n",
      "Info about dodge car\n",
      "LED\n",
      "None\n",
      "\n",
      "Info about nissan car\n",
      "LED\n",
      "0%\n"
     ]
    }
   ],
   "source": [
    "dodge =Car(\"red\", 4, \"LED\", \"None\")\n",
    "chevrolet = Car(\"green\", 4, \"halogen\", \"25%\")\n",
    "nissan =Car(\"orange\",4, \"LED\", \"0%\")\n",
    "\n",
    "print(\"Info about the cars\")\n",
    "print(dodge.color)\n",
    "print(chevrolet.color)\n",
    "print(nissan.color)\n",
    "\n",
    "print(\"\\nInfo about dodge car\")\n",
    "\n",
    "print(dodge.headlights)\n",
    "print(dodge.window_tint)\n",
    "\n",
    "print(\"\\nInfo about nissan car\")\n",
    "print(nissan.headlights)\n",
    "print(nissan.window_tint)"
   ]
  },
  {
   "cell_type": "code",
   "execution_count": null,
   "metadata": {},
   "outputs": [],
   "source": []
  },
  {
   "cell_type": "code",
   "execution_count": null,
   "metadata": {},
   "outputs": [],
   "source": []
  },
  {
   "cell_type": "markdown",
   "metadata": {},
   "source": [
    "## The \\__init\\__() Method <br>\n",
    "<p>This method is used in almost every created class, and called only once upon the creation of the class instance. This method will initialize all variables needed for the object.</p>"
   ]
  },
  {
   "cell_type": "code",
   "execution_count": 15,
   "metadata": {},
   "outputs": [],
   "source": [
    "class Car():\n",
    "\n",
    "    engine = True\n",
    "\n",
    "    def __init__(self, wheels, color, doors):\n",
    "        self.wheels = wheels\n",
    "        self.color = color\n",
    "        self.doors = doors"
   ]
  },
  {
   "cell_type": "code",
   "execution_count": 16,
   "metadata": {},
   "outputs": [
    {
     "name": "stdout",
     "output_type": "stream",
     "text": [
      "red\n",
      "tan\n",
      "True\n",
      "True\n"
     ]
    }
   ],
   "source": [
    "ford = Car(4, \"red\", 2)\n",
    "mazda = Car(4, \"black\", 2)\n",
    "subaru = Car(4, \"tan\", 4)\n",
    "\n",
    "print(ford.color)\n",
    "print(subaru.color)\n",
    "\n",
    "print(ford.engine)\n",
    "print(subaru.engine)"
   ]
  },
  {
   "cell_type": "markdown",
   "metadata": {},
   "source": [
    "##### The 'self' Attribute <br>\n",
    "<p>This attribute is required to keep track of specific instance's attributes. Without the self attribute, the program would not know how to reference or keep track of an instance's attributes.</p>"
   ]
  },
  {
   "cell_type": "code",
   "execution_count": 29,
   "metadata": {},
   "outputs": [
    {
     "name": "stdout",
     "output_type": "stream",
     "text": [
      "Charmander\n",
      "This is Charmander. It is a fire type.\n"
     ]
    }
   ],
   "source": [
    "class Pokemon():\n",
    "    def __init__(self, name, type_):\n",
    "        self.name = name\n",
    "        self.type_ = type_\n",
    "\n",
    "    def print_info(self):\n",
    "        print(f\"This is {self.name}. It is a {self.type_} type.\")\n",
    "\n",
    "charmander = Pokemon(\"Charmander\", \"fire\")\n",
    "print(charmander.name)\n",
    "charmander.print_info() # dot method. aka a function specific to that object/class type"
   ]
  },
  {
   "cell_type": "markdown",
   "metadata": {},
   "source": [
    "## Class Attributes <br>\n",
    "<p>While variables are inside of a class, they are referred to as attributes and not variables. When someone says 'attribute' you know they're speaking about a class. Attributes can be initialized through the init method, or outside of it.</p>"
   ]
  },
  {
   "cell_type": "markdown",
   "metadata": {},
   "source": [
    "##### Initializing Attributes"
   ]
  },
  {
   "cell_type": "code",
   "execution_count": 31,
   "metadata": {},
   "outputs": [],
   "source": [
    "bulbasaur = Pokemon(\"Bulbasaur\", \"Grass\")"
   ]
  },
  {
   "cell_type": "markdown",
   "metadata": {},
   "source": [
    "##### Accessing Class Attributes"
   ]
  },
  {
   "cell_type": "code",
   "execution_count": 34,
   "metadata": {
    "scrolled": true
   },
   "outputs": [
    {
     "name": "stdout",
     "output_type": "stream",
     "text": [
      "Bulbasaur\n",
      "Grass\n"
     ]
    },
    {
     "data": {
      "text/plain": [
       "{'name': 'Bulbasaur', 'type_': 'Grass'}"
      ]
     },
     "execution_count": 34,
     "metadata": {},
     "output_type": "execute_result"
    }
   ],
   "source": [
    "print(bulbasaur.name) # accessing specific attributes\n",
    "print(bulbasaur.type_)\n",
    "bulbasaur.type_\n",
    "\n",
    "bulbasaur.__dict__ # accessing all your attributes inside your __init__() method"
   ]
  },
  {
   "cell_type": "markdown",
   "metadata": {},
   "source": [
    "##### Setting Defaults for Attributes"
   ]
  },
  {
   "cell_type": "code",
   "execution_count": 36,
   "metadata": {},
   "outputs": [
    {
     "name": "stdout",
     "output_type": "stream",
     "text": [
      "4\n",
      "blue\n"
     ]
    }
   ],
   "source": [
    "# two ways of setting default attributes aka parameters\n",
    "\n",
    "class Car():\n",
    "\n",
    "    def __init__(self, wheels):\n",
    "        self.wheels = wheels\n",
    "        self.color = \"blue\" # one way of setting default attributes when you don't want the option to instantiate with them\n",
    "\n",
    "honda = Car(4)\n",
    "\n",
    "print(honda.wheels)\n",
    "print(honda.color)"
   ]
  },
  {
   "cell_type": "code",
   "execution_count": 37,
   "metadata": {},
   "outputs": [
    {
     "name": "stdout",
     "output_type": "stream",
     "text": [
      "blue\n",
      "Red\n"
     ]
    }
   ],
   "source": [
    "class Car():\n",
    "\n",
    "    def __init__(self, wheels=4, color=\"blue\"): # default attributes if you want the option to instantiate with them\n",
    "        self.wheels = wheels\n",
    "        self.color = color\n",
    "\n",
    "ford = Car()\n",
    "subaru = Car(6, \"Red\")\n",
    "\n",
    "print(ford.color)\n",
    "print(subaru.color)\n",
    "    "
   ]
  },
  {
   "cell_type": "markdown",
   "metadata": {},
   "source": [
    "##### Changing Class Attributes <br>\n",
    "<p>Keep in mind there are global class attributes and then there are attributes only available to each class instance which won't effect other classes.</p>"
   ]
  },
  {
   "cell_type": "code",
   "execution_count": 40,
   "metadata": {},
   "outputs": [],
   "source": [
    "# all variables inside of classes are local to that class. They are accessible anywhere inside that class\n",
    "\n",
    "class Car():\n",
    "    TYPE = \"car\" # class attribute but it's also a constant denoted by all caps\n",
    "\n",
    "    def __init__(self, wheels): # instance attributes (can/will be different for each instance of that class)\n",
    "        self.wheels = wheels\n",
    "        self.color = \"Blue\""
   ]
  },
  {
   "cell_type": "code",
   "execution_count": 41,
   "metadata": {},
   "outputs": [],
   "source": [
    "honda = Car(4)"
   ]
  },
  {
   "cell_type": "markdown",
   "metadata": {},
   "source": [
    "##### In-Class Exercise #2 - Add two new attributes to your 'Car' class then print out two different instances with different doors and seats. Then take that bad boy to the shop and change those attributes. Either with an input or just by changing them"
   ]
  },
  {
   "cell_type": "code",
   "execution_count": 49,
   "metadata": {},
   "outputs": [
    {
     "name": "stdout",
     "output_type": "stream",
     "text": [
      "black\n",
      "black\n",
      "My Ford Mustang is gray with 4 doors and 5 seats.\n"
     ]
    }
   ],
   "source": [
    "class Car():\n",
    "    TYPE = \"car\"\n",
    "    wheels = 4\n",
    "\n",
    "\n",
    "    def __init__(self, manu, model, year, color, doors=4, seats=5): # default attributes if you want the option to instantiate with them\n",
    "        self.manu = manu\n",
    "        self.model = model\n",
    "        self.year = year\n",
    "        self.color = color\n",
    "        self.doors = doors\n",
    "        self.seats = seats\n",
    "\n",
    "    def change_color(self):\n",
    "        color = input(\"Enter your car color: \")\n",
    "        self.color = color\n",
    "\n",
    "\n",
    "honda = Car(\"Honda\", \"CRV\", 2023, \"black\")\n",
    "print(honda.color)\n",
    "# honda.color = \"white\"\n",
    "# print(honda.color)\n",
    "\n",
    "# honda.change_color() # changing color using change_color method\n",
    "print(honda.color)\n",
    "\n",
    "ford = Car(\"Ford\",\"Mustang\", 2020, \"gray\")\n",
    "print(f\"My {ford.manu} {ford.model} is {ford.color} with {ford.doors} doors and {ford.seats} seats.\")\n",
    "\n",
    "\n",
    "\n"
   ]
  },
  {
   "cell_type": "markdown",
   "metadata": {},
   "source": [
    "## Class Methods <br>\n",
    "<p>While inside of a class, functions are referred to as 'methods'. If you hear someone mention methods, they're speaking about classes. Methods are essentially functions, but only callable on the instances of a class.</p>"
   ]
  },
  {
   "cell_type": "markdown",
   "metadata": {},
   "source": [
    "##### Creating"
   ]
  },
  {
   "cell_type": "code",
   "execution_count": 75,
   "metadata": {},
   "outputs": [],
   "source": [
    "class Bus():\n",
    "    \"\"\" \n",
    "    class Bus will have the following attributes:\n",
    "    doors, seats, seats avaialble and bus driver\n",
    "\n",
    "    Attribute Types:\n",
    "    -doors: integer\n",
    "    -seats: integer\n",
    "    -seats_available: integer\n",
    "    -color: string\n",
    "    -bus_driver: string\n",
    "    \n",
    "    \"\"\"\n",
    "\n",
    "    def __init__(self, doors, seats, seats_available, color, bus_driver):\n",
    "        self.doors = doors\n",
    "        self.seats = seats\n",
    "        self.seats_available = seats_available\n",
    "        self.color = color\n",
    "        self.bus_driver = bus_driver\n",
    "\n",
    "    # decrement the number of seats available when someone comes on the bus\n",
    "    def load_passengers(self):\n",
    "\n",
    "        if self.seats_available <= 0:\n",
    "            print(\"There's no more room on the bus. Sorry!\")\n",
    "\n",
    "        else:\n",
    "            while True:\n",
    "                passengers = int(input(\"How many passengers are getting on today? \"))\n",
    "                if self.seats_available - passengers < 0:\n",
    "                    print(\"You are trying to load too many passengers.\")\n",
    "                else:\n",
    "                    self.seats_available -= passengers\n",
    "                    break\n",
    "\n",
    "        print(f\"{passengers} passengers have boarded. There are {self.seats_available} seats left on the bus.\")\n",
    "\n",
    "        # increment the number of seats available when someone gets off the bus\n",
    "    def unload_passengers(self):\n",
    "        if self.seats_available >= self.seats:\n",
    "            print(\"There is no one on the bus to unload.\")\n",
    "            self.seats_available = self.seats\n",
    "        else:\n",
    "            unload = int(input(\"How many passengers are geting off the bus? \"))\n",
    "            self.seats_available += unload\n",
    "            if self.seats_available >= self.seats:\n",
    "                self.seats_available = self.seats\n",
    "        print(f\"{unload} passengers have left the bus. There are {self.seats_available} seats left on the bus.\")\n",
    "\n",
    "        # change the bus driver\n",
    "    def change_driver(self):\n",
    "        change = input(\"Who is replacing the bus driver? \")\n",
    "        self.bus_driver = change\n",
    "        print(f\"The new bus driver is {self.bus_driver}. Be sure to thank them and tip! \")\n",
    "\n",
    "        # display available seats\n",
    "    def check_seats(self):\n",
    "        print(f\"There are {self.seats_available} available on the bus! \")\n",
    "\n",
    "        # display bus color\n",
    "    def view_color(self):\n",
    "        print(f\"The color of this bus is {self.color}.\")\n",
    "            \n",
    "    "
   ]
  },
  {
   "cell_type": "markdown",
   "metadata": {},
   "source": [
    "##### Calling"
   ]
  },
  {
   "cell_type": "code",
   "execution_count": null,
   "metadata": {},
   "outputs": [
    {
     "name": "stdin",
     "output_type": "stream",
     "text": [
      "What would you like to do today? Load/Unload/Change Driver/Check Seats/View Color/Quit?  view\n"
     ]
    },
    {
     "name": "stdout",
     "output_type": "stream",
     "text": [
      "The color of this bus is green.\n"
     ]
    },
    {
     "name": "stdin",
     "output_type": "stream",
     "text": [
      "What would you like to do today? Load/Unload/Change Driver/Check Seats/View Color/Quit?  view color\n"
     ]
    },
    {
     "name": "stdout",
     "output_type": "stream",
     "text": [
      "The color of this bus is green.\n"
     ]
    },
    {
     "name": "stdin",
     "output_type": "stream",
     "text": [
      "What would you like to do today? Load/Unload/Change Driver/Check Seats/View Color/Quit?  change\n",
      "Who is replacing the bus driver?  Michelle\n"
     ]
    },
    {
     "name": "stdout",
     "output_type": "stream",
     "text": [
      "The new bus driver is Michelle. Be sure to thank them and tip! \n"
     ]
    },
    {
     "name": "stdin",
     "output_type": "stream",
     "text": [
      "What would you like to do today? Load/Unload/Change Driver/Check Seats/View Color/Quit?  check\n"
     ]
    },
    {
     "name": "stdout",
     "output_type": "stream",
     "text": [
      "There are 100 available on the bus! \n"
     ]
    },
    {
     "name": "stdin",
     "output_type": "stream",
     "text": [
      "What would you like to do today? Load/Unload/Change Driver/Check Seats/View Color/Quit?  load\n",
      "How many passengers are getting on today?  90\n"
     ]
    },
    {
     "name": "stdout",
     "output_type": "stream",
     "text": [
      "90 passengers have boarded. There are 10 seats left on the bus.\n"
     ]
    },
    {
     "name": "stdin",
     "output_type": "stream",
     "text": [
      "What would you like to do today? Load/Unload/Change Driver/Check Seats/View Color/Quit?  unload\n",
      "How many passengers are geting off the bus?  90\n"
     ]
    },
    {
     "name": "stdout",
     "output_type": "stream",
     "text": [
      "90 passengers have left the bus. There are 100 seats left on the bus.\n"
     ]
    }
   ],
   "source": [
    "def run():\n",
    "\n",
    "    kenai_bus = Bus(2, 100, 100, \"green\", \"Kenai\")\n",
    "\n",
    "    while True:\n",
    "        response =input(\"What would you like to do today? Load/Unload/Change Driver/Check Seats/View Color/Quit? \").lower().strip()\n",
    "\n",
    "        if response == \"quit\":\n",
    "            print(\"Oh no! There are still passengers to be picked up!\")\n",
    "            break  \n",
    "        elif response == \"load\":\n",
    "            kenai_bus.load_passengers()\n",
    "        elif response == \"unload\":\n",
    "            kenai_bus.unload_passengers()\n",
    "        elif response in {\"change\", \"change driver\"}:\n",
    "            kenai_bus.change_driver()\n",
    "        elif response in {\"check\", \"check seats\"}:\n",
    "            kenai_bus.check_seats()\n",
    "        elif response in {\"view color\", \"view\"}:\n",
    "            kenai_bus.view_color()\n",
    "        else:\n",
    "            print(\"Invalid response. Try again!\")\n",
    "\n",
    "run()"
   ]
  },
  {
   "cell_type": "markdown",
   "metadata": {},
   "source": [
    "##### Modifying an Attribute's Value Through a Method"
   ]
  },
  {
   "cell_type": "code",
   "execution_count": null,
   "metadata": {},
   "outputs": [],
   "source": [
    "# see above\n",
    "# load_passengers()\n",
    "# unload_passengers()\n",
    "# change_driver()"
   ]
  },
  {
   "cell_type": "markdown",
   "metadata": {},
   "source": [
    "##### Incrementing an Attribute's Value Through a Method"
   ]
  },
  {
   "cell_type": "code",
   "execution_count": null,
   "metadata": {},
   "outputs": [],
   "source": [
    "#unload_passengers()"
   ]
  },
  {
   "cell_type": "markdown",
   "metadata": {},
   "source": [
    "##### In-Class Exercise #3 - Add a method that takes in three parameters of year, doors and seats and prints out a formatted print statement with make, model, year, seats, and doors"
   ]
  },
  {
   "cell_type": "code",
   "execution_count": 18,
   "metadata": {},
   "outputs": [
    {
     "ename": "IndentationError",
     "evalue": "unindent does not match any outer indentation level (<tokenize>, line 24)",
     "output_type": "error",
     "traceback": [
      "\u001b[0;36m  File \u001b[0;32m<tokenize>:24\u001b[0;36m\u001b[0m\n\u001b[0;31m    def __init__(self, manu, model, year, color, doors=4, seats=5): # default attributes if you want the option to instantiate with them\u001b[0m\n\u001b[0m    ^\u001b[0m\n\u001b[0;31mIndentationError\u001b[0m\u001b[0;31m:\u001b[0m unindent does not match any outer indentation level\n"
     ]
    }
   ],
   "source": [
    "# Create class with 2 paramters inside of the __init__ which are make and model, more if you'd like\n",
    "\n",
    "# Create two methods for your class\n",
    "\n",
    "# Create a method that alters an attribute for your class\n",
    "\n",
    "# Display method that prints information about the vehicle\n",
    "\n",
    "# Output: This car is from 2019 and is a Ford Explorer and has 4 doors and 5 seats\n",
    "\n",
    "# reminder in order to call class methods object.method()\n",
    "\n",
    "class Car():\n",
    "        \"\"\" \n",
    "        \n",
    "        class Car will have the following attributes:\n",
    "        manufacturer, model, year, color\n",
    "        Default attributes:\n",
    "            - doors = 4\n",
    "            - seats = 5\n",
    "    \n",
    "        \"\"\"\n",
    "    \n",
    "    def __init__(self, manu, model, year, color, doors=4, seats=5): # default attributes if you want the option to instantiate with them\n",
    "        self.manu = manu\n",
    "        self.model = model\n",
    "        self.year = year\n",
    "        self.color = color\n",
    "        self.doors = doors\n",
    "        self.seats = seats\n",
    "\n",
    "    def change_color(self):\n",
    "        change_color = input(\"What color do you want your car to be? \")\n",
    "        self.color = change_color\n",
    "                \n",
    "\n",
    "        print(f\"Your car {self.manu} {self.model} is going to be{self.color}.\")\n",
    "\n",
    "    def change_seats(self):\n",
    "        new_seats = input(\"What type of seats do you want in your car? \")\n",
    "        self.seats = new_seats\n",
    "        print(f\"Your car {self.manu} {self.model} will have {self.seats} seats. \")\n",
    "\n",
    "  \n",
    "kenai_car = Car(\"Dodge\", \"Journey\", 2020, \"blue\")\n",
    "print(kenai_car.manu)\n",
    "\n",
    "\n",
    "\n",
    "        \n",
    "\n",
    "\n",
    "\n",
    "\n",
    "\n",
    "\n",
    "\n",
    "\n"
   ]
  },
  {
   "cell_type": "code",
   "execution_count": 20,
   "metadata": {},
   "outputs": [
    {
     "ename": "IndentationError",
     "evalue": "unindent does not match any outer indentation level (<tokenize>, line 12)",
     "output_type": "error",
     "traceback": [
      "\u001b[0;36m  File \u001b[0;32m<tokenize>:12\u001b[0;36m\u001b[0m\n\u001b[0;31m    def __init__(self, manu, model, year, color, doors=4, seats=5): # default attributes if you want the option to instantiate with them\u001b[0m\n\u001b[0m    ^\u001b[0m\n\u001b[0;31mIndentationError\u001b[0m\u001b[0;31m:\u001b[0m unindent does not match any outer indentation level\n"
     ]
    }
   ],
   "source": [
    "class Car():\n",
    "        \"\"\" \n",
    "        \n",
    "        class Car will have the following attributes:\n",
    "        manufacturer, model, year, color\n",
    "        Default attributes:\n",
    "            - doors = 4\n",
    "            - seats = 5\n",
    "    \n",
    "        \"\"\"\n",
    "    \n",
    "    def __init__(self, manu, model, year, color, doors=4, seats=5): # default attributes if you want the option to instantiate with them\n",
    "        self.manu = manu\n",
    "        self.model = model\n",
    "        self.year = year\n",
    "        self.color = color\n",
    "        self.doors = doors\n",
    "        self.seats = seats\n",
    "\n",
    "    def change_color(self):\n",
    "        change_color = input(\"What color do you want your car to be? \")\n",
    "        self.color = change_color\n",
    "                \n",
    "\n",
    "        print(f\"Your car {self.manu} {self.model} is going to be{self.color}.\")\n",
    "\n",
    "    def change_seats(self):\n",
    "        new_seats = input(\"What type of seats do you want in your car? \")\n",
    "        self.seats = new_seats\n",
    "        print(f\"Your car {self.manu} {self.model} will have {self.seats} seats. \")\n",
    "\n",
    "  \n",
    "kenai_car = Car(\"Dodge\", \"Journey\", 2020, \"blue\")\n",
    "print(kenai_car.manu)\n"
   ]
  },
  {
   "cell_type": "markdown",
   "metadata": {},
   "source": [
    "## Inheritance <br>\n",
    "<p>You can create a child-parent relationship between two classes by using inheritance. What this allows you to do is have overriding methods, but also inherit traits from the parent class. Think of it as an actual parent and child, the child will inherit the parent's genes, as will the classes in OOP</p>"
   ]
  },
  {
   "cell_type": "markdown",
   "metadata": {},
   "source": [
    "##### Syntax for Inheriting from a Parent Class"
   ]
  },
  {
   "cell_type": "code",
   "execution_count": 22,
   "metadata": {},
   "outputs": [],
   "source": [
    "# creation of a parent class\n",
    "\n",
    "class Animal():\n",
    "    ACCELERATION = 9.8 # constant class attribute\n",
    "\n",
    "    def __init__(self, name, species, legs=4):\n",
    "        self.name = name\n",
    "        self.species = species\n",
    "        self.legs = legs\n",
    "\n",
    "    #generic parent method\n",
    "    def make_sound(self):\n",
    "        print(\"RawrrrrrRRR!\")"
   ]
  },
  {
   "cell_type": "markdown",
   "metadata": {},
   "source": [
    "##### The \\__init\\__() Method for a Child Class - super()"
   ]
  },
  {
   "cell_type": "code",
   "execution_count": 27,
   "metadata": {
    "scrolled": true
   },
   "outputs": [
    {
     "name": "stdout",
     "output_type": "stream",
     "text": [
      "Lassie accelerates at 9.8 and has 3 legs.\n",
      "RawrrrrrRRR!\n",
      "blue\n"
     ]
    }
   ],
   "source": [
    "# creation of child class inheriting from parent class\n",
    "\n",
    "class Dog(Animal): # pass original class into child via parenthesis\n",
    "    def __init__(self, name,eye_color, species = \"Dog\", legs = 4):\n",
    "        super().__init__(name,species,legs) # use super().__init__ and unique values - don't take in self \n",
    "        self.eye_color = eye_color\n",
    "\n",
    "    def print_info(self):\n",
    "        print(f\"{self.name} accelerates at {self.ACCELERATION} and has {self.legs} legs.\")\n",
    "\n",
    "lassie = Dog(\"Lassie\",\"blue\", legs=3) # legs will change to 3 although default for Dog in Animal class is 4. Lassie is a special dog lol\n",
    "lassie.print_info()\n",
    "lassie.make_sound()\n",
    "print(lassie.eye_color)"
   ]
  },
  {
   "cell_type": "code",
   "execution_count": 31,
   "metadata": {},
   "outputs": [
    {
     "name": "stdout",
     "output_type": "stream",
     "text": [
      "Moo, Moo, Wooffff!\n",
      "Willie also known as Wilbutts is crazy fast at 9.8 speed and has blue-green eyes!\n"
     ]
    }
   ],
   "source": [
    "class Mutt(Dog):\n",
    "    def __init__(self, name, eye_color, nickname, species = \"mutt\"):\n",
    "        Dog.__init__(self, name, eye_color, species)\n",
    "        self.nickname = nickname\n",
    "\n",
    "    # override methods from one class to the next (idea of polymorphism aka many forms)\n",
    "    def make_sound(self):\n",
    "        print(\"Moo, Moo, Wooffff!\")\n",
    "\n",
    "    def print_info(self):\n",
    "        print(f\"{self.name.title()} also known as {self.nickname.title()} is crazy fast at {self.ACCELERATION} speed and has {self.eye_color} eyes!\")\n",
    "\n",
    "willie = Mutt(\"willie\", \"blue-green\", \"wilbutts\")\n",
    "willie.make_sound()\n",
    "willie.print_info()\n",
    "        "
   ]
  },
  {
   "cell_type": "markdown",
   "metadata": {},
   "source": [
    "##### Defining Attributes and Methods for the Child Class"
   ]
  },
  {
   "cell_type": "code",
   "execution_count": null,
   "metadata": {},
   "outputs": [],
   "source": [
    "# See Above"
   ]
  },
  {
   "cell_type": "markdown",
   "metadata": {},
   "source": [
    "##### Method Overriding"
   ]
  },
  {
   "cell_type": "code",
   "execution_count": null,
   "metadata": {},
   "outputs": [],
   "source": [
    "# See Above"
   ]
  },
  {
   "cell_type": "markdown",
   "metadata": {},
   "source": [
    "## Encapsulation\n"
   ]
  },
  {
   "cell_type": "markdown",
   "metadata": {},
   "source": [
    "<p>Encapsulation is one of the fundamental concepts in object-oriented programming (OOP). It describes the idea of wrapping data and the methods that work on data within one unit. This puts restrictions on accessing variables and methods directly and can prevent the accidental modification of data. f"
   ]
  },
  {
   "cell_type": "markdown",
   "metadata": {},
   "source": [
    "### Access Modifiers\n"
   ]
  },
  {
   "cell_type": "markdown",
   "metadata": {},
   "source": [
    "#### Public\n",
    "<p> Attributes & methods default to public in classes. Meaning they can be accessed from anywhere. "
   ]
  },
  {
   "cell_type": "code",
   "execution_count": 1,
   "metadata": {},
   "outputs": [],
   "source": [
    "#see above. All attributes & methods in the previous examples are public"
   ]
  },
  {
   "cell_type": "markdown",
   "metadata": {},
   "source": [
    "#### Protected \n",
    "<p>Protected attributes are denoted with a singular '_' underscore. Attributes & methods that are protected are only accessible in the class it derived from and any inherited classes. "
   ]
  },
  {
   "cell_type": "code",
   "execution_count": 34,
   "metadata": {},
   "outputs": [
    {
     "name": "stdout",
     "output_type": "stream",
     "text": [
      "Dog\n"
     ]
    }
   ],
   "source": [
    "class Animal():\n",
    "\n",
    "    ACCELERATION = 9.8\n",
    "\n",
    "    def __init__(self, name, species, legs = 4):\n",
    "        self.name = name\n",
    "        self._species = species  # protected attribute\n",
    "        self.legs = legs\n",
    "\n",
    "class Dog(Animal):\n",
    "\n",
    "    def __init__(self, name, species = \"Dog\"):\n",
    "        super().__init__(name, species)\n",
    "\n",
    "    def display_species(self):\n",
    "\n",
    "        return self._species # protected variables can be accessed in classes (con't)\n",
    "                            # they derive from but also any inherited class\n",
    "\n",
    "eyo = Dog(\"Eyo\")\n",
    "eyo.display_species()\n",
    "\n",
    "print(eyo._species) # python makes rules but doesn't necessarily enforce them - this is being printed outside the class. DONT DO THIS!\n"
   ]
  },
  {
   "cell_type": "markdown",
   "metadata": {},
   "source": [
    "#### Private \n",
    "<p>Private attributes are denoted with a double '__' underscore. Attributes & methods that are private are only accessible in the class it was derived from making them the most secure. "
   ]
  },
  {
   "cell_type": "code",
   "execution_count": 41,
   "metadata": {},
   "outputs": [
    {
     "data": {
      "text/plain": [
       "'Dog'"
      ]
     },
     "execution_count": 41,
     "metadata": {},
     "output_type": "execute_result"
    }
   ],
   "source": [
    "class Animal():\n",
    "\n",
    "    ACCELERATION = 9.8\n",
    "\n",
    "    def __init__(self, name, species, legs = 4):\n",
    "        self.name = name\n",
    "        self.__species = species  # protected attribute (double __)\n",
    "        self.legs = legs\n",
    "\n",
    "    def display_species(self): # method can only exist in class it was derived from and have total control over rules of how to access attributes\n",
    "\n",
    "        return self.__species #this will print out below because it's defined in the parent class\n",
    "\n",
    "class Dog(Animal):\n",
    "\n",
    "    def __init__(self, name, species = \"Dog\"):\n",
    "        super().__init__(name, species)\n",
    "\n",
    "    # def display_species(self): # method override and I can change the rules\n",
    "\n",
    "    #     return self.__species # protected variables can be accessed in classes (con't)\n",
    "                            # they derive from but also any inherited class\n",
    "\n",
    "eyo = Dog(\"Eyo\")\n",
    "eyo.display_species()\n",
    "\n",
    "# i have to work on my indentation lol "
   ]
  },
  {
   "cell_type": "markdown",
   "metadata": {},
   "source": [
    "## Classes as Attributes <br>\n",
    "<p>Classes can also be used as attributes within another class. This is useful in situations where you need to keep variables locally stored, instead of globally stored.</p>"
   ]
  },
  {
   "cell_type": "code",
   "execution_count": 44,
   "metadata": {},
   "outputs": [
    {
     "name": "stdout",
     "output_type": "stream",
     "text": [
      "{'year': 2023, 'make': 'Tesla', 'model': 'Model Y', 'battery': <__main__.Battery object at 0x115badb50>}\n",
      "2023 Tesla Model Y with 7.8 20 battery.\n"
     ]
    }
   ],
   "source": [
    "class Battery():\n",
    "    VOLTS = 7.8\n",
    "\n",
    "    def __init__(self, cells):\n",
    "        self.cells = cells\n",
    "\n",
    "class Car():\n",
    "\n",
    "    def __init__(self, year, make,model,battery):\n",
    "        self.year = year\n",
    "        self.make = make\n",
    "        self.model = model\n",
    "        self.battery = battery\n",
    "\n",
    "    def print_info(self):\n",
    "        print(f\"{self.year} {self.make} {self.model} with {self.battery.VOLTS} {self.battery.cells} battery.\")\n",
    "\n",
    "battery = Battery(20)\n",
    "\n",
    "tesla = Car(2023, \"Tesla\", \"Model Y\", battery)\n",
    "\n",
    "print(tesla.__dict__)\n",
    "tesla.print_info()"
   ]
  },
  {
   "cell_type": "markdown",
   "metadata": {},
   "source": [
    "### Generators in Classes"
   ]
  },
  {
   "cell_type": "code",
   "execution_count": 45,
   "metadata": {},
   "outputs": [],
   "source": [
    "class Movie:\n",
    "\n",
    "    def __init__(self):\n",
    "        self.genres = [\"spooky\", \"horror\", \"thriller\", \"adventure\", \"comedy\", \"action\"]\n",
    "        self.generator_object = self.yield_genres()\n",
    "\n",
    "    def yield_genres(self):\n",
    "        for genre in self.genres:\n",
    "            yield genre\n",
    "\n",
    "    def show_genres(self):\n",
    "        try:\n",
    "            return next(self.generator_object)\n",
    "        except:\n",
    "            return \"No more genres to return\""
   ]
  },
  {
   "cell_type": "code",
   "execution_count": 47,
   "metadata": {},
   "outputs": [],
   "source": [
    "my_movie = Movie()"
   ]
  },
  {
   "cell_type": "code",
   "execution_count": 54,
   "metadata": {},
   "outputs": [
    {
     "data": {
      "text/plain": [
       "'No more genres to return'"
      ]
     },
     "execution_count": 54,
     "metadata": {},
     "output_type": "execute_result"
    }
   ],
   "source": [
    "my_movie.show_genres()"
   ]
  },
  {
   "cell_type": "markdown",
   "metadata": {},
   "source": [
    "# Exercises"
   ]
  },
  {
   "cell_type": "markdown",
   "metadata": {},
   "source": [
    "### Exercise 1 - Turn the shopping cart program from last week into an object-oriented program\n",
    "\n",
    "The comments in the cell below are there as a guide for thinking about the problem. However, if you feel a different way is best for you and your own thought process, please do what feels best for you by all means."
   ]
  },
  {
   "cell_type": "code",
   "execution_count": null,
   "metadata": {},
   "outputs": [],
   "source": [
    "# Create a class called cart that retains items and has methods to add, remove, and show\n",
    "\n",
    "class Cart():\n",
    "    pass\n",
    "\n",
    "# decided to do exercise 2\n",
    "    "
   ]
  },
  {
   "cell_type": "markdown",
   "metadata": {},
   "source": [
    "### Exercise 1 Option 2 - Create A Video Game Character Class using Object-Oriented Programming\n",
    "<p>The character class should have the following attributes: character type (i.e. ogre, human, elf, etc), health points, attack points, weapons (list or dictionary). The class should also have the following methods to deplete health points, regain health points, add or remove weapons, and show character stats.\n",
    "    "
   ]
  },
  {
   "cell_type": "code",
   "execution_count": 160,
   "metadata": {},
   "outputs": [
    {
     "name": "stdin",
     "output_type": "stream",
     "text": [
      "Please enter the type of your character(i.e. human, ogre, cat, dog):  human\n",
      "Please enter your character's name:  Shrek\n"
     ]
    },
    {
     "name": "stdout",
     "output_type": "stream",
     "text": [
      "\n",
      "Your character's name is Shrek.\n",
      "Your character is a Human.\n",
      "\n",
      "Additional Information:\n",
      "\tHealth: 100%\n",
      "\tDefault Weapons: ['pipe', 'flame thrower']\n",
      "\tDamage taken per hit: 5\n"
     ]
    }
   ],
   "source": [
    "# variable for regaining points\n",
    "regained_points = 2\n",
    "\n",
    "class Character():\n",
    "    \n",
    "    \"\"\"\n",
    "    \n",
    "    This video game character has the following attributes:\n",
    "        - type\n",
    "        - name\n",
    "        - health_points\n",
    "        - attack_points\n",
    "        - damage_points (idk if this is a thing or not but i added it)\n",
    "        - weapons\n",
    "    Attribute Types:\n",
    "    -char_type: string as input\n",
    "    -char_name: string as input\n",
    "    -health_pts: integer default to 100\n",
    "    -damage_pts: integer default to 5. This means everytime they get hit they get 5 health points taken away\n",
    "    -weapons: string\n",
    "\n",
    "    \"\"\"\n",
    "\n",
    "    def __init__(self, char_type, char_name, attack_pts, weapons=[\"axe\",\"shield\"], damage_pts = 5, health_pts =100):\n",
    "        \"\"\" Initialize basic character attributes \"\"\"\n",
    "        self.char_type = input(\"Please enter the type of your character(i.e. human, ogre, cat, dog): \")\n",
    "        self.char_name = input(\"Please enter your character's name: \")\n",
    "        self.attack_pts = attack_pts\n",
    "        self.weapons = weapons\n",
    "        self.damage_pts = 5\n",
    "        self.health_pts = 100\n",
    "\n",
    "    def display_initial_stats(self):\n",
    "        print(f\"\\nYour character's name is {self.char_name.title()}.\")\n",
    "        print(f\"Your character is a {self.char_type.title()}.\")\n",
    "        print(f\"\\nAdditional Information:\")\n",
    "        print(f\"\\tHealth: {self.health_pts}%\\n\\tDefault Weapons: {self.weapons}\\n\\tDamage taken per hit: {self.damage_pts}\")\n",
    "\n",
    "    def deplete_health_pts(self):\n",
    "        \"\"\" Simulate health being depleted \"\"\"\n",
    "        self.health_pts -= self.attack_pts\n",
    "        print(f\"\\nYour character {self.char_name.title()} took {self.attack_pts} damage. Their health is now {self.health_pts}%.\")\n",
    "\n",
    "    def regain_health_pts(self):\n",
    "        \"\"\" Simulate regaining health points \"\"\"\n",
    "        self.health_pts += regained_points\n",
    "        \n",
    "        print(f\"\\nYour character {self.char_name.title()} regained {regained_points} health points by resting.\")\n",
    "        print(f\"Their health is now {self.health_pts}%.\")\n",
    "\n",
    "    def add_weapon(self):\n",
    "        \"\"\" \n",
    "        Simulate adding a weapon \n",
    "        Added a while True loop to check and see if weapon is in current inventory\n",
    "        \n",
    "        \"\"\"\n",
    "        \n",
    "        while True:\n",
    "            new_weapon = input(\"What weapon would you like to add? \")\n",
    "            if new_weapon.lower() in self.weapons:\n",
    "                print(f\"This weapon is already in your inventory. Please add another one.\")\n",
    "            elif new_weapon.lower() not in self.weapons:\n",
    "                self.weapons += [new_weapon]\n",
    "                print(f\"{new_weapon} has been added. You now have: {self.weapons} available for weapons.\")\n",
    "                break\n",
    "\n",
    "    def remove_weapon(self):\n",
    "        \"\"\" Simulate deleting a weapon \n",
    "        Added a while True loop to check for input validation\n",
    "        and to see if they want to remove a weapon\n",
    "        \n",
    "        \"\"\"\n",
    "        print(f\"\\nWeapons on hand {self.weapons}\")\n",
    "        while True:\n",
    "            delete_weapon = input(\"What weapon would you like to remove? \")\n",
    "            if delete_weapon.lower() in self.weapons:\n",
    "                self.weapons.remove(delete_weapon) \n",
    "                print(f\"{delete_weapon} has been removed.\")\n",
    "                print(f\"\\nCurrent weapon inventory is now: {self.weapons}\")\n",
    "            elif delete_weapon.lower() == \"none\":\n",
    "                print(\"No weapons will be deleted at this time.\")\n",
    "                print(f\"\\nCurrent weapon inventory: {self.weapons}\")\n",
    "                break\n",
    "                \n",
    "            else:\n",
    "                print(\"Invalid response. Please select an item from your weapons list you would like to remove.\")\n",
    "\n",
    "    def current_stats(self):\n",
    "        \"\"\" Simulate current player stats \"\"\"\n",
    "        print(f\"\\nCurrent Character Stats: \")\n",
    "        print(f\"\\n\\tCurrent Weapons: {self.weapons}\\n\\tCurrent health: {self.health_pts}%\")\n",
    "        \n",
    "\n",
    "\n",
    "    \n",
    "\n",
    "\n",
    "\n",
    "\n",
    "# call the methods\n",
    "# i wanted the player to be able to enter the type of character and character name\n",
    "\n",
    "my_character = Character(\"\",\"\", 5, [\"axe\",\"shield\"],100)\n",
    "my_character.display_initial_stats()\n",
    "my_character.deplete_health_pts()\n",
    "my_character.regain_health_pts()\n",
    "my_character.add_weapon()\n",
    "my_character.remove_weapon()\n",
    "my_character.current_stats()\n",
    "\n",
    "# character 2\n",
    "my_character2 = Character(\"\",\"\", 10, [\"pipe\",\"flame thrower\"],80)\n",
    "my_character2.display_initial_stats()\n",
    "\n",
    "\n",
    "\n",
    "\n",
    "        \n",
    "        \n"
   ]
  },
  {
   "cell_type": "markdown",
   "metadata": {},
   "source": [
    "### Exercise 2 - Write a Python class which has two methods get_String and print_String. get_String accept a string from the user and print_String print the string in upper case"
   ]
  },
  {
   "cell_type": "code",
   "execution_count": 183,
   "metadata": {},
   "outputs": [],
   "source": [
    "class StringAcceptance():\n",
    "\n",
    "    \"\"\"\n",
    "\n",
    "    This class accepts a string from a user\n",
    "    and uses two functions to display\n",
    "    \n",
    "    \"\"\"\n",
    "\n",
    "    def __init__(self, name):\n",
    "        \"\"\" Initialize getting a name and statement from the user \"\"\"\n",
    "        self.name = name\n",
    "\n",
    "    def get_String(self):\n",
    "        \"\"\" Get input from user \"\"\"\n",
    "        get_statement = input(\"What do you want to say? \")\n",
    "        self.statement = get_statement\n",
    "\n",
    "    def print_String(self):\n",
    "        print(f\"This is the statement you wrote: {self.statement.upper()}.\")\n",
    "\n",
    "\n",
    "\n",
    "        \n",
    "        "
   ]
  },
  {
   "cell_type": "code",
   "execution_count": 184,
   "metadata": {},
   "outputs": [
    {
     "name": "stdin",
     "output_type": "stream",
     "text": [
      "What do you want to say?  hey this is neat\n"
     ]
    },
    {
     "name": "stdout",
     "output_type": "stream",
     "text": [
      "This is the statement you wrote: HEY THIS IS NEAT.\n"
     ]
    }
   ],
   "source": [
    "my_statement = StringAcceptance(\"Kenai\")\n",
    "my_statement.get_String()\n",
    "my_statement.print_String()"
   ]
  },
  {
   "cell_type": "code",
   "execution_count": null,
   "metadata": {},
   "outputs": [],
   "source": []
  }
 ],
 "metadata": {
  "kernelspec": {
   "display_name": "Python 3 (ipykernel)",
   "language": "python",
   "name": "python3"
  },
  "language_info": {
   "codemirror_mode": {
    "name": "ipython",
    "version": 3
   },
   "file_extension": ".py",
   "mimetype": "text/x-python",
   "name": "python",
   "nbconvert_exporter": "python",
   "pygments_lexer": "ipython3",
   "version": "3.11.4"
  }
 },
 "nbformat": 4,
 "nbformat_minor": 4
}
